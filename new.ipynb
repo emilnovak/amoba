{
 "cells": [
  {
   "cell_type": "code",
   "execution_count": 1,
   "metadata": {},
   "outputs": [
    {
     "name": "stdout",
     "output_type": "stream",
     "text": [
      "pygame 1.9.4\n",
      "Hello from the pygame community. https://www.pygame.org/contribute.html\n"
     ]
    }
   ],
   "source": [
    "import pygame"
   ]
  },
  {
   "cell_type": "code",
   "execution_count": 2,
   "metadata": {},
   "outputs": [],
   "source": [
    "background_colour = (255,255,255)\n",
    "(window_width, window_height) = (800, 600)\n",
    "screen = pygame.display.set_mode((window_width, window_height))\n",
    "pygame.display.set_caption('Amőba')\n",
    "screen.fill(background_colour)\n",
    "pygame.display.flip()\n",
    "\n",
    "clock = pygame.time.Clock()"
   ]
  },
  {
   "cell_type": "code",
   "execution_count": 3,
   "metadata": {},
   "outputs": [],
   "source": [
    "drag = (0, 0)\n",
    "dragging = False\n",
    "\n",
    "(offset_x, offset_y) = (0, 0)"
   ]
  },
  {
   "cell_type": "code",
   "execution_count": 4,
   "metadata": {},
   "outputs": [
    {
     "ename": "TypeError",
     "evalue": "invalid color argument",
     "output_type": "error",
     "traceback": [
      "\u001b[0;31m---------------------------------------------------------------------------\u001b[0m",
      "\u001b[0;31mTypeError\u001b[0m                                 Traceback (most recent call last)",
      "\u001b[0;32m<ipython-input-4-e4e031837070>\u001b[0m in \u001b[0;36m<module>\u001b[0;34m\u001b[0m\n\u001b[1;32m     40\u001b[0m \u001b[0;34m\u001b[0m\u001b[0m\n\u001b[1;32m     41\u001b[0m     \u001b[0;31m# RENDER\u001b[0m\u001b[0;34m\u001b[0m\u001b[0;34m\u001b[0m\u001b[0;34m\u001b[0m\u001b[0m\n\u001b[0;32m---> 42\u001b[0;31m     \u001b[0mpygame\u001b[0m\u001b[0;34m.\u001b[0m\u001b[0mdraw\u001b[0m\u001b[0;34m.\u001b[0m\u001b[0mrect\u001b[0m\u001b[0;34m(\u001b[0m\u001b[0mscreen\u001b[0m\u001b[0;34m,\u001b[0m \u001b[0;34m'GREEN'\u001b[0m\u001b[0;34m,\u001b[0m \u001b[0;34m[\u001b[0m\u001b[0mwindow_width\u001b[0m \u001b[0;34m/\u001b[0m \u001b[0;36m2\u001b[0m \u001b[0;34m+\u001b[0m \u001b[0moffset_x\u001b[0m\u001b[0;34m,\u001b[0m \u001b[0mwindow_height\u001b[0m \u001b[0;34m/\u001b[0m \u001b[0;36m2\u001b[0m \u001b[0;34m+\u001b[0m \u001b[0moffset_y\u001b[0m\u001b[0;34m,\u001b[0m \u001b[0;36m100\u001b[0m\u001b[0;34m,\u001b[0m \u001b[0;36m100\u001b[0m\u001b[0;34m]\u001b[0m\u001b[0;34m)\u001b[0m\u001b[0;34m\u001b[0m\u001b[0;34m\u001b[0m\u001b[0m\n\u001b[0m\u001b[1;32m     43\u001b[0m \u001b[0;34m\u001b[0m\u001b[0m\n\u001b[1;32m     44\u001b[0m \u001b[0;34m\u001b[0m\u001b[0m\n",
      "\u001b[0;31mTypeError\u001b[0m: invalid color argument"
     ]
    }
   ],
   "source": [
    "# Game Loop\n",
    "\n",
    "running = True\n",
    "while running:\n",
    "    \n",
    "    # EVENTS\n",
    "    \n",
    "    for event in pygame.event.get():\n",
    "\n",
    "        if event.type == pygame.QUIT:\n",
    "            running = False\n",
    "\n",
    "        if event.type == pygame.MOUSEBUTTONDOWN:\n",
    "            mouse_x, mouse_y = event.pos\n",
    "            mouse_x /= window_width\n",
    "            mouse_y /= window_height\n",
    "            print(u'button {} pressed in the position {}'.format(event.button, (mouse_x, mouse_y)))\n",
    "            \n",
    "            if event.button == 3:\n",
    "                dragging = True\n",
    "                drag = (mouse_x, mouse_y)\n",
    "        \n",
    "        if event.type == pygame.MOUSEBUTTONUP:\n",
    "            mouse_x, mouse_y = event.pos\n",
    "            mouse_x /= window_width\n",
    "            mouse_y /= window_height\n",
    "            \n",
    "            if event.button == 3 and dragging == True:\n",
    "                (tmp_x, tmp_y) = drag\n",
    "                tmp_x = mouse_x - tmp_x\n",
    "                tmp_y = mouse_y - tmp_y\n",
    "                \n",
    "                drag = (tmp_x, tmp_y)\n",
    "                dragging = False\n",
    "                \n",
    "                offset_x += tmp_x\n",
    "                offset_y += tmp_x\n",
    "                \n",
    "                print(\"drag: \", drag)\n",
    "           \n",
    "    # RENDER\n",
    "    pygame.draw.rect(screen, GREEN, [window_width / 2 + offset_x, window_height / 2 + offset_y, 100, 100])\n",
    "    \n",
    "    \n",
    "    \n",
    "    \n",
    "    \n",
    "    clock.tick(60)\n",
    "    pygame.display.flip()\n",
    "    \n",
    "        \n",
    "\n",
    "pygame.quit()"
   ]
  },
  {
   "cell_type": "code",
   "execution_count": null,
   "metadata": {},
   "outputs": [],
   "source": []
  }
 ],
 "metadata": {
  "kernelspec": {
   "display_name": "Python3 pyGame",
   "language": "python",
   "name": "game3"
  },
  "language_info": {
   "codemirror_mode": {
    "name": "ipython",
    "version": 3
   },
   "file_extension": ".py",
   "mimetype": "text/x-python",
   "name": "python",
   "nbconvert_exporter": "python",
   "pygments_lexer": "ipython3",
   "version": "3.6.7"
  }
 },
 "nbformat": 4,
 "nbformat_minor": 2
}
