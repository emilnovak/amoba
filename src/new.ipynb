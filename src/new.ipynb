{
 "cells": [
  {
   "cell_type": "code",
   "execution_count": 1,
   "metadata": {},
   "outputs": [
    {
     "name": "stdout",
     "output_type": "stream",
     "text": [
      "pygame 1.9.4\n",
      "Hello from the pygame community. https://www.pygame.org/contribute.html\n"
     ]
    }
   ],
   "source": [
    "import pygame"
   ]
  },
  {
   "cell_type": "code",
   "execution_count": 2,
   "metadata": {},
   "outputs": [],
   "source": [
    "background_colour = (205,211,213)\n",
    "playerColor = (154,72,208)\n",
    "aiColor = (255,169,135)\n",
    "\n",
    "(window_width, window_height) = (800, 600)\n",
    "screen = pygame.display.set_mode((window_width, window_height))\n",
    "pygame.display.set_caption('Amőba')\n",
    "screen.fill(background_colour)\n",
    "pygame.display.flip()\n",
    "\n",
    "clock = pygame.time.Clock()"
   ]
  },
  {
   "cell_type": "code",
   "execution_count": 3,
   "metadata": {},
   "outputs": [],
   "source": [
    "tileSize = 20\n",
    "\n",
    "emptyChar = ''\n",
    "playerChar = 'X'\n",
    "aiChar = 'O'\n",
    "\n",
    "gameField = [['', '', ''], ['', 'X', ''], ['', '', '']]"
   ]
  },
  {
   "cell_type": "code",
   "execution_count": 4,
   "metadata": {},
   "outputs": [],
   "source": [
    "prevDragPosition = (0, 0)\n",
    "selectedTile = (0, 0)\n",
    "\n",
    "(offset_x, offset_y) = (0, 0)\n"
   ]
  },
  {
   "cell_type": "code",
   "execution_count": null,
   "metadata": {},
   "outputs": [],
   "source": [
    "# Game Loop\n",
    "\n",
    "running = True\n",
    "while running:\n",
    "    \n",
    "    # EVENTS\n",
    "    \n",
    "    for event in pygame.event.get():\n",
    "\n",
    "        if event.type == pygame.QUIT:\n",
    "            running = False\n",
    "        \n",
    "        if event.type == pygame.KEYDOWN:\n",
    "            if event.key == pygame.K_ESCAPE:\n",
    "                (offset_x, offset_y) = (0, 0)\n",
    "\n",
    "        if event.type == pygame.MOUSEBUTTONDOWN:\n",
    "            mouse_x, mouse_y = event.pos\n",
    "            \n",
    "            if event.button == 3:\n",
    "                prevDragPosition = event.pos\n",
    "            \n",
    "        \n",
    "        if event.type == pygame.MOUSEMOTION:\n",
    "            # print(u'pressed buttons {}, position {} and relative movement {}'.format(event.buttons, event.pos, event.rel))\n",
    "            \n",
    "            mouse_x, mouse_y = event.pos\n",
    "            selectedTile = ((mouse_x - offset_x) // tileSize, (mouse_y - offset_y) // tileSize)\n",
    "            \n",
    "            if event.buttons[2] == 1:\n",
    "                (tmp_x, tmp_y) = event.pos\n",
    "                \n",
    "                offset_x += tmp_x - prevDragPosition[0]\n",
    "                offset_y += tmp_y - prevDragPosition[1]\n",
    "                \n",
    "                prevDragPosition = event.pos\n",
    "    \n",
    "        \n",
    "        if event.type == pygame.MOUSEBUTTONUP:\n",
    "            ;\n",
    "        \n",
    "           \n",
    "    # RENDER\n",
    "    screen.fill(background_colour)\n",
    "    \n",
    "    pygame.draw.rect(screen, playerColor, [ (selectedTile[0] + offset_x) * tileSize, (selectedTile[1] + offset_y) * tileSize, tileSize, tileSize])\n",
    "    \n",
    "    \n",
    "    \n",
    "    \n",
    "    \n",
    "    clock.tick(60)\n",
    "    pygame.display.flip()\n",
    "    \n",
    "        \n",
    "\n",
    "pygame.quit()"
   ]
  },
  {
   "cell_type": "code",
   "execution_count": null,
   "metadata": {},
   "outputs": [],
   "source": []
  }
 ],
 "metadata": {
  "kernelspec": {
   "display_name": "Python3 pyGame",
   "language": "python",
   "name": "game3"
  },
  "language_info": {
   "codemirror_mode": {
    "name": "ipython",
    "version": 3
   },
   "file_extension": ".py",
   "mimetype": "text/x-python",
   "name": "python",
   "nbconvert_exporter": "python",
   "pygments_lexer": "ipython3",
   "version": "3.6.7"
  }
 },
 "nbformat": 4,
 "nbformat_minor": 2
}
